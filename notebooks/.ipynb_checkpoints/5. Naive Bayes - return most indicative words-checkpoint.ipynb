{
 "cells": [
  {
   "cell_type": "markdown",
   "metadata": {},
   "source": [
    "\n",
    "## Naive Bayes - return most indicitive words\n",
    "#### Written by: Isobel Jones\n",
    "#### Date: 12th of June\n",
    "\n"
   ]
  },
  {
   "cell_type": "code",
   "execution_count": 1,
   "metadata": {},
   "outputs": [],
   "source": [
    "import os\n",
    "import emoji\n",
    "import pickle\n",
    "import operator\n",
    "import pandas as pd\n",
    "import gocept.pseudonymize"
   ]
  },
  {
   "cell_type": "code",
   "execution_count": 2,
   "metadata": {},
   "outputs": [],
   "source": [
    "#Get current working directory\n",
    "cwd = os.getcwd()"
   ]
  },
  {
   "cell_type": "code",
   "execution_count": 3,
   "metadata": {},
   "outputs": [],
   "source": [
    "def loadData(path):\n",
    "    #Open the file for reading\n",
    "    fileObject = open(path,'rb')\n",
    "\n",
    "    # load the object from the file into var b\n",
    "    loadedTweets = pickle.load(fileObject)\n",
    "    return loadedTweets"
   ]
  },
  {
   "cell_type": "code",
   "execution_count": 4,
   "metadata": {},
   "outputs": [],
   "source": [
    "file_name = cwd +'/data/twitterhandles.dump'\n",
    "\n",
    "#Open the file for reading\n",
    "fileObject = open(file_name,'rb')\n",
    "\n",
    "# load the object from the file into var b\n",
    "loadedTweets = loadData(file_name)"
   ]
  },
  {
   "cell_type": "code",
   "execution_count": 5,
   "metadata": {},
   "outputs": [],
   "source": [
    "#Get all of the twitter @mentions\n",
    "#t=[]\n",
    "#for j in range(0,len(x)-1):\n",
    "#    t.append([word for word in x[j] if '@' in word])"
   ]
  },
  {
   "cell_type": "code",
   "execution_count": 6,
   "metadata": {},
   "outputs": [],
   "source": [
    "featureDict = {}\n",
    "# Returns a dictionary containing features as keys, and weights as values\n",
    "\n",
    "def tofeatureDict(tokens):\n",
    "    v = {}\n",
    "    for t in tokens:\n",
    "        if t in featureDict:\n",
    "            featureDict[t] = featureDict[t] + 1\n",
    "        else: \n",
    "            featureDict[t] = 0 \n",
    "        if t in v:\n",
    "            v[t] = v[t] + 1\n",
    "        else:\n",
    "            v[t] = 1\n",
    "    return v"
   ]
  },
  {
   "cell_type": "code",
   "execution_count": 7,
   "metadata": {},
   "outputs": [],
   "source": [
    "name = []\n",
    "for x in loadedTweets:\n",
    "    name.append(tofeatureDict(x))"
   ]
  },
  {
   "cell_type": "code",
   "execution_count": 8,
   "metadata": {},
   "outputs": [],
   "source": [
    "v = {}\n",
    "for j in range(0,len(loadedTweets)-1):\n",
    "    for x in loadedTweets[j]:\n",
    "        if x in v:\n",
    "            v[x] = v[x] + 1\n",
    "        else:\n",
    "            v[x] = 1"
   ]
  },
  {
   "cell_type": "code",
   "execution_count": 9,
   "metadata": {},
   "outputs": [
    {
     "data": {
      "text/plain": [
       "[]"
      ]
     },
     "execution_count": 9,
     "metadata": {},
     "output_type": "execute_result"
    }
   ],
   "source": [
    "#Show the top 50 most commons words\n",
    "sorted_x = sorted(v.items(), key=operator.itemgetter(1))\n",
    "sorted_x[-10:]"
   ]
  },
  {
   "cell_type": "code",
   "execution_count": 10,
   "metadata": {},
   "outputs": [],
   "source": [
    "listnames = list(v.keys())\n",
    "#This is a list of all of the @mentions\n",
    "#listnames "
   ]
  },
  {
   "cell_type": "code",
   "execution_count": 11,
   "metadata": {},
   "outputs": [],
   "source": [
    "tweetexamp = ['This','is','@RoyalMail']\n"
   ]
  },
  {
   "cell_type": "code",
   "execution_count": 12,
   "metadata": {},
   "outputs": [
    {
     "data": {
      "text/plain": [
       "'4jtil48gyy'"
      ]
     },
     "execution_count": 12,
     "metadata": {},
     "output_type": "execute_result"
    }
   ],
   "source": [
    "gocept.pseudonymize.name('@RoyalMail','secret')"
   ]
  },
  {
   "cell_type": "code",
   "execution_count": 13,
   "metadata": {},
   "outputs": [
    {
     "name": "stdout",
     "output_type": "stream",
     "text": [
      "This is Tntcljgwrq 😭😭😭\n"
     ]
    }
   ],
   "source": [
    "tweetxamp = 'This is @royalmail 😭😭😭'\n",
    "customernames = ['@royalmail','@PostOffice','@AmazonUK','@parcelforce']\n",
    "\n",
    "for tag in customernames:\n",
    "    tweetxamp = tweetxamp.replace(tag, gocept.pseudonymize.name(tag,'secret'))\n",
    "print (tweetxamp)"
   ]
  },
  {
   "cell_type": "code",
   "execution_count": 14,
   "metadata": {},
   "outputs": [
    {
     "data": {
      "text/plain": [
       "'This is  😭😭😭'"
      ]
     },
     "execution_count": 14,
     "metadata": {},
     "output_type": "execute_result"
    }
   ],
   "source": [
    "import re\n",
    "tweetxamp = 'This is @Royalmail 😭😭😭'\n",
    "re.sub('@[rR]oyal[mM]ail', '', tweetxamp)  # remove royalmail"
   ]
  },
  {
   "cell_type": "markdown",
   "metadata": {},
   "source": [
    "Identify a way to keep emojis"
   ]
  },
  {
   "cell_type": "code",
   "execution_count": 15,
   "metadata": {},
   "outputs": [],
   "source": [
    "def count_emojis(tweets):\n",
    "    e = emoji.get_emoji_regexp()\n",
    "\n",
    "    emojis = []\n",
    "    for x in tweets:\n",
    "        match = e.search(x)\n",
    "        if match:\n",
    "            emojis.append(match.group())\n",
    "\n",
    "    dfe = pd.DataFrame(emojis, columns=['text'])\n",
    "    return dfe\n",
    "\n",
    "def is_emoji(word):\n",
    "    if emoji_re.search(word) is not None and len(word) == 1:\n",
    "        return True\n",
    "    else:\n",
    "        return False"
   ]
  },
  {
   "cell_type": "code",
   "execution_count": 16,
   "metadata": {},
   "outputs": [],
   "source": [
    "emoji_re = emoji.get_emoji_regexp()"
   ]
  },
  {
   "cell_type": "code",
   "execution_count": 17,
   "metadata": {},
   "outputs": [
    {
     "data": {
      "text/plain": [
       "3"
      ]
     },
     "execution_count": 17,
     "metadata": {},
     "output_type": "execute_result"
    }
   ],
   "source": [
    "len(count_emojis(tweetxamp))"
   ]
  },
  {
   "cell_type": "markdown",
   "metadata": {},
   "source": [
    "Find the most informative featues "
   ]
  },
  {
   "cell_type": "code",
   "execution_count": 18,
   "metadata": {},
   "outputs": [],
   "source": [
    "file_name = cwd +'/data/GDPRFindMyItemTweets.dump'\n",
    "\n",
    "cleanedtweets = loadData(file_name)"
   ]
  },
  {
   "cell_type": "code",
   "execution_count": 19,
   "metadata": {},
   "outputs": [],
   "source": [
    "a = [' '.join(x[:][1]) for x in cleanedtweets]\n",
    "b = [x[:][2] for x in cleanedtweets]\n",
    "c = []\n",
    "\n",
    "min_len = min(len(a),len(b))\n",
    "\n",
    "for i in range(min_len):\n",
    "  c.extend([(a.pop(0), b.pop(0))])"
   ]
  },
  {
   "cell_type": "code",
   "execution_count": 20,
   "metadata": {},
   "outputs": [
    {
     "data": {
      "text/plain": [
       "[('destiny hi i don t have an update or eta at present hopefully this will be resolved soon sorry for any inconvenience luk',\n",
       "  'NotFind'),\n",
       " ('destiny hi destiny can you dm u your tracking number and delivery address so that we can look into this for you gt mayah',\n",
       "  'NotFind'),\n",
       " ('askebay that your way of not bothering you don t want to compete against paypaluk for customer service royalmail do you want to join in',\n",
       "  'NotFind'),\n",
       " ('reeally starting to wish that either royalmail or lushltd would reply to my tweet and help me out 😭😭',\n",
       "  'NotFind'),\n",
       " ('royalmail please can you update me with this parcel f', 'Find My Item')]"
      ]
     },
     "execution_count": 20,
     "metadata": {},
     "output_type": "execute_result"
    }
   ],
   "source": [
    "c[0:5]"
   ]
  },
  {
   "cell_type": "code",
   "execution_count": 21,
   "metadata": {},
   "outputs": [
    {
     "data": {
      "text/plain": [
       "15038"
      ]
     },
     "execution_count": 21,
     "metadata": {},
     "output_type": "execute_result"
    }
   ],
   "source": [
    "len(c)"
   ]
  },
  {
   "cell_type": "code",
   "execution_count": 22,
   "metadata": {},
   "outputs": [],
   "source": [
    "from textblob.classifiers import NaiveBayesClassifier\n",
    "classifier = NaiveBayesClassifier(c)"
   ]
  },
  {
   "cell_type": "code",
   "execution_count": 23,
   "metadata": {},
   "outputs": [
    {
     "name": "stdout",
     "output_type": "stream",
     "text": [
      "Most Informative Features\n",
      "       contains(langley) = True           Find M : NotFin =     36.8 : 1.0\n",
      "          contains(hwdc) = True           Find M : NotFin =     32.8 : 1.0\n",
      "   contains(whereabouts) = True           Find M : NotFin =     22.9 : 1.0\n",
      "      contains(heathrow) = True           Find M : NotFin =     22.5 : 1.0\n",
      "           contains(bin) = True           NotFin : Find M =     21.1 : 1.0\n",
      "            contains(dc) = True           Find M : NotFin =     19.7 : 1.0\n",
      "          contains(fpgb) = True           Find M : NotFin =     18.3 : 1.0\n",
      "       contains(outside) = True           NotFin : Find M =     17.8 : 1.0\n",
      "          contains(fhgb) = True           Find M : NotFin =     16.9 : 1.0\n",
      "          contains(rugb) = True           Find M : NotFin =     16.1 : 1.0\n",
      "         contains(queue) = True           NotFin : Find M =     15.5 : 1.0\n",
      "          contains(rrpl) = True           Find M : NotFin =     14.9 : 1.0\n",
      "        contains(greece) = True           Find M : NotFin =     14.9 : 1.0\n",
      "          contains(fqgb) = True           Find M : NotFin =     14.9 : 1.0\n",
      "         contains(spain) = True           Find M : NotFin =     14.9 : 1.0\n",
      "         contains(front) = True           NotFin : Find M =     14.2 : 1.0\n",
      "        contains(france) = True           Find M : NotFin =     14.1 : 1.0\n",
      "      contains(plymouth) = True           NotFin : Find M =     13.9 : 1.0\n",
      "          contains(afgb) = True           Find M : NotFin =     13.2 : 1.0\n",
      "           contains(rdc) = True           Find M : NotFin =     12.9 : 1.0\n",
      "          contains(rzgb) = True           Find M : NotFin =     12.9 : 1.0\n",
      "          contains(open) = True           NotFin : Find M =     11.7 : 1.0\n",
      "           contains(fit) = True           NotFin : Find M =     11.5 : 1.0\n",
      "      contains(shipment) = True           Find M : NotFin =     11.3 : 1.0\n",
      "      contains(aeptance) = True           Find M : NotFin =     10.9 : 1.0\n",
      "          contains(lxcn) = True           Find M : NotFin =     10.9 : 1.0\n",
      "          contains(rfes) = True           Find M : NotFin =     10.9 : 1.0\n",
      "        contains(mexico) = True           Find M : NotFin =     10.9 : 1.0\n",
      "          contains(wjgb) = True           Find M : NotFin =     10.9 : 1.0\n",
      "        contains(adress) = True           Find M : NotFin =     10.9 : 1.0\n",
      "           contains(dog) = True           NotFin : Find M =     10.6 : 1.0\n",
      "         contains(every) = True           NotFin : Find M =     10.6 : 1.0\n",
      "      contains(envelope) = True           NotFin : Find M =     10.5 : 1.0\n",
      "       contains(updated) = True           Find M : NotFin =     10.5 : 1.0\n",
      "          contains(lzus) = True           Find M : NotFin =     10.1 : 1.0\n",
      "      contains(overseas) = True           Find M : NotFin =     10.0 : 1.0\n",
      "       contains(charged) = True           NotFin : Find M =     10.0 : 1.0\n",
      "          contains(scan) = True           Find M : NotFin =      9.9 : 1.0\n",
      "          contains(rude) = True           NotFin : Find M =      9.5 : 1.0\n",
      "         contains(waste) = True           NotFin : Find M =      9.3 : 1.0\n",
      "            contains(le) = True           NotFin : Find M =      9.3 : 1.0\n",
      "          contains(vote) = True           NotFin : Find M =      9.2 : 1.0\n",
      "           contains(him) = True           NotFin : Find M =      9.2 : 1.0\n",
      "          contains(jkgb) = True           Find M : NotFin =      9.2 : 1.0\n",
      "    contains(progressed) = True           Find M : NotFin =      8.9 : 1.0\n",
      "        contains(russia) = True           Find M : NotFin =      8.9 : 1.0\n",
      "contains(robbiewilliams) = True           Find M : NotFin =      8.9 : 1.0\n",
      "            contains(ed) = True           Find M : NotFin =      8.9 : 1.0\n",
      "     contains(estimated) = True           Find M : NotFin =      8.9 : 1.0\n",
      "       contains(outward) = True           Find M : NotFin =      8.9 : 1.0\n"
     ]
    }
   ],
   "source": [
    "classifier.show_informative_features(50)"
   ]
  }
 ],
 "metadata": {
  "kernelspec": {
   "display_name": "Python 3",
   "language": "python",
   "name": "python3"
  },
  "language_info": {
   "codemirror_mode": {
    "name": "ipython",
    "version": 3
   },
   "file_extension": ".py",
   "mimetype": "text/x-python",
   "name": "python",
   "nbconvert_exporter": "python",
   "pygments_lexer": "ipython3",
   "version": "3.6.4"
  }
 },
 "nbformat": 4,
 "nbformat_minor": 2
}
