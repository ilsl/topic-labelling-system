{
 "cells": [
  {
   "cell_type": "markdown",
   "metadata": {},
   "source": [
    "\n",
    "## 6. Topic Modelling \n",
    "#### Written by: Isobel Jones\n",
    "#### Date: 16th of July\n",
    "\n"
   ]
  },
  {
   "cell_type": "markdown",
   "metadata": {},
   "source": [
    "1. load in pre processed data\n",
    "2. Check number of occurances for certain words\n",
    "3. Prepare a Document-Term matrix\n",
    "4. Run LDA Model\n",
    "5. Plot clustermap to show any correlations"
   ]
  },
  {
   "cell_type": "code",
   "execution_count": 1,
   "metadata": {},
   "outputs": [],
   "source": [
    "import os\n",
    "import emoji\n",
    "import pickle\n",
    "import pandas as pd\n",
    "import gensim\n",
    "import seaborn as sns\n",
    "import matplotlib.pyplot as plt\n",
    "%matplotlib inline\n",
    "from collections import OrderedDict\n",
    "from gensim import corpora, models, similarities\n",
    "import pyLDAvis.gensim\n",
    "import warnings\n",
    "warnings.filterwarnings(\"ignore\", category=DeprecationWarning)"
   ]
  },
  {
   "cell_type": "markdown",
   "metadata": {},
   "source": [
    "Get Root working dirctory"
   ]
  },
  {
   "cell_type": "code",
   "execution_count": 2,
   "metadata": {},
   "outputs": [
    {
     "name": "stdout",
     "output_type": "stream",
     "text": [
      "Root Working Directory:\n",
      "\n",
      " /Users/isobeljones/DataScience/topic-labelling-system\n"
     ]
    }
   ],
   "source": [
    "rootwd = os.path.abspath(os.path.join(os.path.dirname(os.getcwd())))\n",
    "print('Root Working Directory:\\n\\n', rootwd)"
   ]
  },
  {
   "cell_type": "markdown",
   "metadata": {},
   "source": [
    "#### 1. load in pre processed data"
   ]
  },
  {
   "cell_type": "code",
   "execution_count": 3,
   "metadata": {},
   "outputs": [],
   "source": [
    "def loadData(path):\n",
    "    #Open the file for reading\n",
    "    fileObject = open(path,'rb')\n",
    "\n",
    "    # load the object from the file into var b\n",
    "    loadedTweets = pickle.load(fileObject)\n",
    "    return loadedTweets"
   ]
  },
  {
   "cell_type": "code",
   "execution_count": 4,
   "metadata": {},
   "outputs": [
    {
     "name": "stdout",
     "output_type": "stream",
     "text": [
      "Number of tweets (documents): 23983\n"
     ]
    }
   ],
   "source": [
    "file_name = rootwd +'/data/GDPRcompliantTweets.dump'\n",
    "\n",
    "#Open the file for reading\n",
    "fileObject = open(file_name,'rb')\n",
    "\n",
    "# load the object from the file into var b\n",
    "loadedTweets = loadData(file_name)\n",
    "\n",
    "tweets = [x[:][1] for x in loadedTweets]\n",
    "print('Number of tweets (documents):',len(tweets))"
   ]
  },
  {
   "cell_type": "markdown",
   "metadata": {},
   "source": [
    "#### 2. Check number of occurances for certain words"
   ]
  },
  {
   "cell_type": "code",
   "execution_count": 5,
   "metadata": {},
   "outputs": [
    {
     "name": "stdout",
     "output_type": "stream",
     "text": [
      "Number of tweets that contain tracking_number: 579\n",
      "Number of tweets that contain verynetwork: 72\n",
      "Number of tweets that contain parcel: 3387\n"
     ]
    }
   ],
   "source": [
    "def countNumberOfOccurances(token):\n",
    "    tokenOfInterest = token\n",
    "    numbferOfOccurances = len([item for i,item in enumerate(tweets) if tokenOfInterest in item])\n",
    "    print(f'Number of tweets that contain {tokenOfInterest}:',numbferOfOccurances)\n",
    "    \n",
    "countNumberOfOccurances(\"tracking_number\")\n",
    "countNumberOfOccurances(\"verynetwork\")\n",
    "countNumberOfOccurances(\"parcel\")"
   ]
  },
  {
   "cell_type": "code",
   "execution_count": 6,
   "metadata": {},
   "outputs": [
    {
     "data": {
      "text/plain": [
       "['reeally',\n",
       " 'starting',\n",
       " 'wish',\n",
       " 'either',\n",
       " 'lushltd',\n",
       " 'reply',\n",
       " 'tweet',\n",
       " '😭',\n",
       " '😭']"
      ]
     },
     "execution_count": 6,
     "metadata": {},
     "output_type": "execute_result"
    }
   ],
   "source": [
    "tweets[3]"
   ]
  },
  {
   "cell_type": "markdown",
   "metadata": {},
   "source": [
    "#### 3. Prepare a Document-Term matrix"
   ]
  },
  {
   "cell_type": "code",
   "execution_count": 7,
   "metadata": {},
   "outputs": [
    {
     "name": "stdout",
     "output_type": "stream",
     "text": [
      "Dictionary(20169 unique tokens: ['destiny', 'eta', 'hopefully', 'inconvenience', 'luk']...)\n"
     ]
    }
   ],
   "source": [
    "# Creating the term dictionary of our corpus, where every unique term is assigned an index.\n",
    "dictionary = corpora.Dictionary(tweets)\n",
    "print(dictionary)\n",
    "\n",
    "#dictionary.filter_extremes(no_below=2, no_above=0.2) #Remove and tokens which appear less than 10 times\n",
    "#dictionary.compactify() # Assign new word ids to all words, shrinking any gaps.\n",
    "\n",
    "# Converting list of documents (corpus) into Document Term Matrix using dictionary prepared above.\n",
    "doc_term_matrix = [dictionary.doc2bow(doc) for doc in tweets]"
   ]
  },
  {
   "cell_type": "markdown",
   "metadata": {},
   "source": [
    "#### 4. Run LDA Model"
   ]
  },
  {
   "cell_type": "code",
   "execution_count": 8,
   "metadata": {},
   "outputs": [
    {
     "data": {
      "text/plain": [
       "[(0,\n",
       "  '0.043*\"parcel\" + 0.028*\"delivered\" + 0.026*\"delivery\" + 0.019*\"ha\" + 0.017*\"tracking\" + 0.014*\"card\" + 0.014*\"number\" + 0.013*\"arrived\"'),\n",
       " (1,\n",
       "  '0.036*\"😡\" + 0.013*\"postoffice\" + 0.011*\"guaranteed\" + 0.009*\"come\" + 0.007*\"waterstones\" + 0.007*\"monday\" + 0.007*\"regarding\" + 0.007*\"tesco\"'),\n",
       " (2,\n",
       "  '0.012*\"postal\" + 0.011*\"mail\" + 0.010*\"door\" + 0.010*\"vote\" + 0.009*\"order\" + 0.008*\"like\" + 0.008*\"postman\" + 0.008*\"deliver\"'),\n",
       " (3,\n",
       "  '0.021*\"stamp\" + 0.019*\"mikefabricant\" + 0.011*\"plea\" + 0.010*\"mile\" + 0.009*\"lp\" + 0.009*\"news\" + 0.009*\"whsmith\" + 0.009*\"👏\"'),\n",
       " (4,\n",
       "  '0.022*\"post\" + 0.020*\"office\" + 0.019*\"parcel\" + 0.016*\"delivery\" + 0.011*\"mail\" + 0.011*\"thanks\" + 0.010*\"sorry\" + 0.009*\"deliver\"'),\n",
       " (5,\n",
       "  '0.015*\"mail\" + 0.013*\"post\" + 0.011*\"delivery\" + 0.010*\"card\" + 0.010*\"£\" + 0.010*\"address\" + 0.010*\"thank\" + 0.010*\"service\"'),\n",
       " (6,\n",
       "  '0.037*\"service\" + 0.024*\"customer\" + 0.014*\"june\" + 0.013*\"complaint\" + 0.011*\"later\" + 0.011*\"reply\" + 0.010*\"tomorrow\" + 0.008*\"delivery\"'),\n",
       " (7,\n",
       "  '0.032*\"😂\" + 0.020*\"office\" + 0.015*\"recorded\" + 0.015*\"sorting\" + 0.011*\"fail\" + 0.009*\"close\" + 0.009*\"minute\" + 0.009*\"drop\"')]"
      ]
     },
     "execution_count": 8,
     "metadata": {},
     "output_type": "execute_result"
    }
   ],
   "source": [
    "tfidf = models.TfidfModel(doc_term_matrix) # step 1 -- initialize a model\n",
    "corpus_tfidf = tfidf[doc_term_matrix]  # step 2 -- use the model to transform vectors\n",
    "total_topics = 8\n",
    "lda = models.LdaModel(doc_term_matrix, id2word=dictionary,random_state=1, num_topics=total_topics)\n",
    "corpus_lda = lda[corpus_tfidf] # create a double wrapper over the original corpus: bow->tfidf->fold\n",
    "lda.show_topics(total_topics,8)"
   ]
  },
  {
   "cell_type": "markdown",
   "metadata": {},
   "source": [
    "Each line is a topic with individual topic terms and weights. "
   ]
  },
  {
   "cell_type": "code",
   "execution_count": 9,
   "metadata": {},
   "outputs": [
    {
     "name": "stdout",
     "output_type": "stream",
     "text": [
      "(165, 8)\n",
      "(8, 165)\n"
     ]
    },
    {
     "data": {
      "text/html": [
       "<div>\n",
       "<style scoped>\n",
       "    .dataframe tbody tr th:only-of-type {\n",
       "        vertical-align: middle;\n",
       "    }\n",
       "\n",
       "    .dataframe tbody tr th {\n",
       "        vertical-align: top;\n",
       "    }\n",
       "\n",
       "    .dataframe thead th {\n",
       "        text-align: right;\n",
       "    }\n",
       "</style>\n",
       "<table border=\"1\" class=\"dataframe\">\n",
       "  <thead>\n",
       "    <tr style=\"text-align: right;\">\n",
       "      <th></th>\n",
       "      <th>absolutely</th>\n",
       "      <th>address</th>\n",
       "      <th>another</th>\n",
       "      <th>answer</th>\n",
       "      <th>anything</th>\n",
       "      <th>arrived</th>\n",
       "      <th>awful</th>\n",
       "      <th>big</th>\n",
       "      <th>block</th>\n",
       "      <th>book</th>\n",
       "      <th>...</th>\n",
       "      <th>working</th>\n",
       "      <th>worse</th>\n",
       "      <th>wrong</th>\n",
       "      <th>year</th>\n",
       "      <th>£</th>\n",
       "      <th>👍</th>\n",
       "      <th>👏</th>\n",
       "      <th>😂</th>\n",
       "      <th>😡</th>\n",
       "      <th>😭</th>\n",
       "    </tr>\n",
       "  </thead>\n",
       "  <tbody>\n",
       "    <tr>\n",
       "      <th>0</th>\n",
       "      <td>0.000000</td>\n",
       "      <td>0.000000</td>\n",
       "      <td>0.000000</td>\n",
       "      <td>0.000000</td>\n",
       "      <td>0.000000</td>\n",
       "      <td>0.012733</td>\n",
       "      <td>0.000000</td>\n",
       "      <td>0.000000</td>\n",
       "      <td>0.000000</td>\n",
       "      <td>0.000000</td>\n",
       "      <td>...</td>\n",
       "      <td>0.000000</td>\n",
       "      <td>0.000000</td>\n",
       "      <td>0.000000</td>\n",
       "      <td>0.000000</td>\n",
       "      <td>0.000000</td>\n",
       "      <td>0.00000</td>\n",
       "      <td>0.000000</td>\n",
       "      <td>0.000000</td>\n",
       "      <td>0.000000</td>\n",
       "      <td>0.000000</td>\n",
       "    </tr>\n",
       "    <tr>\n",
       "      <th>1</th>\n",
       "      <td>0.000000</td>\n",
       "      <td>0.000000</td>\n",
       "      <td>0.000000</td>\n",
       "      <td>0.000000</td>\n",
       "      <td>0.000000</td>\n",
       "      <td>0.000000</td>\n",
       "      <td>0.000000</td>\n",
       "      <td>0.000000</td>\n",
       "      <td>0.000000</td>\n",
       "      <td>0.000000</td>\n",
       "      <td>...</td>\n",
       "      <td>0.000000</td>\n",
       "      <td>0.000000</td>\n",
       "      <td>0.000000</td>\n",
       "      <td>0.000000</td>\n",
       "      <td>0.000000</td>\n",
       "      <td>0.00000</td>\n",
       "      <td>0.000000</td>\n",
       "      <td>0.000000</td>\n",
       "      <td>0.036497</td>\n",
       "      <td>0.000000</td>\n",
       "    </tr>\n",
       "    <tr>\n",
       "      <th>2</th>\n",
       "      <td>0.000000</td>\n",
       "      <td>0.000000</td>\n",
       "      <td>0.000000</td>\n",
       "      <td>0.000000</td>\n",
       "      <td>0.000000</td>\n",
       "      <td>0.000000</td>\n",
       "      <td>0.000000</td>\n",
       "      <td>0.000000</td>\n",
       "      <td>0.000000</td>\n",
       "      <td>0.000000</td>\n",
       "      <td>...</td>\n",
       "      <td>0.004894</td>\n",
       "      <td>0.000000</td>\n",
       "      <td>0.000000</td>\n",
       "      <td>0.000000</td>\n",
       "      <td>0.000000</td>\n",
       "      <td>0.00000</td>\n",
       "      <td>0.000000</td>\n",
       "      <td>0.000000</td>\n",
       "      <td>0.000000</td>\n",
       "      <td>0.000000</td>\n",
       "    </tr>\n",
       "    <tr>\n",
       "      <th>3</th>\n",
       "      <td>0.000000</td>\n",
       "      <td>0.000000</td>\n",
       "      <td>0.000000</td>\n",
       "      <td>0.000000</td>\n",
       "      <td>0.000000</td>\n",
       "      <td>0.000000</td>\n",
       "      <td>0.000000</td>\n",
       "      <td>0.004437</td>\n",
       "      <td>0.000000</td>\n",
       "      <td>0.005309</td>\n",
       "      <td>...</td>\n",
       "      <td>0.000000</td>\n",
       "      <td>0.000000</td>\n",
       "      <td>0.000000</td>\n",
       "      <td>0.000000</td>\n",
       "      <td>0.000000</td>\n",
       "      <td>0.00000</td>\n",
       "      <td>0.008797</td>\n",
       "      <td>0.000000</td>\n",
       "      <td>0.000000</td>\n",
       "      <td>0.000000</td>\n",
       "    </tr>\n",
       "    <tr>\n",
       "      <th>4</th>\n",
       "      <td>0.005082</td>\n",
       "      <td>0.006026</td>\n",
       "      <td>0.000000</td>\n",
       "      <td>0.000000</td>\n",
       "      <td>0.000000</td>\n",
       "      <td>0.000000</td>\n",
       "      <td>0.000000</td>\n",
       "      <td>0.000000</td>\n",
       "      <td>0.000000</td>\n",
       "      <td>0.000000</td>\n",
       "      <td>...</td>\n",
       "      <td>0.000000</td>\n",
       "      <td>0.000000</td>\n",
       "      <td>0.000000</td>\n",
       "      <td>0.005402</td>\n",
       "      <td>0.000000</td>\n",
       "      <td>0.00000</td>\n",
       "      <td>0.000000</td>\n",
       "      <td>0.000000</td>\n",
       "      <td>0.000000</td>\n",
       "      <td>0.000000</td>\n",
       "    </tr>\n",
       "    <tr>\n",
       "      <th>5</th>\n",
       "      <td>0.000000</td>\n",
       "      <td>0.009857</td>\n",
       "      <td>0.000000</td>\n",
       "      <td>0.000000</td>\n",
       "      <td>0.005287</td>\n",
       "      <td>0.000000</td>\n",
       "      <td>0.000000</td>\n",
       "      <td>0.000000</td>\n",
       "      <td>0.000000</td>\n",
       "      <td>0.000000</td>\n",
       "      <td>...</td>\n",
       "      <td>0.000000</td>\n",
       "      <td>0.000000</td>\n",
       "      <td>0.007048</td>\n",
       "      <td>0.000000</td>\n",
       "      <td>0.010001</td>\n",
       "      <td>0.00548</td>\n",
       "      <td>0.000000</td>\n",
       "      <td>0.000000</td>\n",
       "      <td>0.000000</td>\n",
       "      <td>0.000000</td>\n",
       "    </tr>\n",
       "    <tr>\n",
       "      <th>6</th>\n",
       "      <td>0.000000</td>\n",
       "      <td>0.000000</td>\n",
       "      <td>0.005046</td>\n",
       "      <td>0.000000</td>\n",
       "      <td>0.000000</td>\n",
       "      <td>0.000000</td>\n",
       "      <td>0.004796</td>\n",
       "      <td>0.000000</td>\n",
       "      <td>0.000000</td>\n",
       "      <td>0.000000</td>\n",
       "      <td>...</td>\n",
       "      <td>0.000000</td>\n",
       "      <td>0.000000</td>\n",
       "      <td>0.000000</td>\n",
       "      <td>0.000000</td>\n",
       "      <td>0.000000</td>\n",
       "      <td>0.00000</td>\n",
       "      <td>0.000000</td>\n",
       "      <td>0.000000</td>\n",
       "      <td>0.000000</td>\n",
       "      <td>0.007024</td>\n",
       "    </tr>\n",
       "    <tr>\n",
       "      <th>7</th>\n",
       "      <td>0.000000</td>\n",
       "      <td>0.000000</td>\n",
       "      <td>0.000000</td>\n",
       "      <td>0.005796</td>\n",
       "      <td>0.000000</td>\n",
       "      <td>0.000000</td>\n",
       "      <td>0.000000</td>\n",
       "      <td>0.000000</td>\n",
       "      <td>0.005273</td>\n",
       "      <td>0.000000</td>\n",
       "      <td>...</td>\n",
       "      <td>0.000000</td>\n",
       "      <td>0.006053</td>\n",
       "      <td>0.000000</td>\n",
       "      <td>0.000000</td>\n",
       "      <td>0.000000</td>\n",
       "      <td>0.00000</td>\n",
       "      <td>0.000000</td>\n",
       "      <td>0.031993</td>\n",
       "      <td>0.000000</td>\n",
       "      <td>0.000000</td>\n",
       "    </tr>\n",
       "  </tbody>\n",
       "</table>\n",
       "<p>8 rows × 165 columns</p>\n",
       "</div>"
      ],
      "text/plain": [
       "   absolutely   address   another    answer  anything   arrived     awful  \\\n",
       "0    0.000000  0.000000  0.000000  0.000000  0.000000  0.012733  0.000000   \n",
       "1    0.000000  0.000000  0.000000  0.000000  0.000000  0.000000  0.000000   \n",
       "2    0.000000  0.000000  0.000000  0.000000  0.000000  0.000000  0.000000   \n",
       "3    0.000000  0.000000  0.000000  0.000000  0.000000  0.000000  0.000000   \n",
       "4    0.005082  0.006026  0.000000  0.000000  0.000000  0.000000  0.000000   \n",
       "5    0.000000  0.009857  0.000000  0.000000  0.005287  0.000000  0.000000   \n",
       "6    0.000000  0.000000  0.005046  0.000000  0.000000  0.000000  0.004796   \n",
       "7    0.000000  0.000000  0.000000  0.005796  0.000000  0.000000  0.000000   \n",
       "\n",
       "        big     block      book    ...      working     worse     wrong  \\\n",
       "0  0.000000  0.000000  0.000000    ...     0.000000  0.000000  0.000000   \n",
       "1  0.000000  0.000000  0.000000    ...     0.000000  0.000000  0.000000   \n",
       "2  0.000000  0.000000  0.000000    ...     0.004894  0.000000  0.000000   \n",
       "3  0.004437  0.000000  0.005309    ...     0.000000  0.000000  0.000000   \n",
       "4  0.000000  0.000000  0.000000    ...     0.000000  0.000000  0.000000   \n",
       "5  0.000000  0.000000  0.000000    ...     0.000000  0.000000  0.007048   \n",
       "6  0.000000  0.000000  0.000000    ...     0.000000  0.000000  0.000000   \n",
       "7  0.000000  0.005273  0.000000    ...     0.000000  0.006053  0.000000   \n",
       "\n",
       "       year         £        👍         👏         😂         😡         😭  \n",
       "0  0.000000  0.000000  0.00000  0.000000  0.000000  0.000000  0.000000  \n",
       "1  0.000000  0.000000  0.00000  0.000000  0.000000  0.036497  0.000000  \n",
       "2  0.000000  0.000000  0.00000  0.000000  0.000000  0.000000  0.000000  \n",
       "3  0.000000  0.000000  0.00000  0.008797  0.000000  0.000000  0.000000  \n",
       "4  0.005402  0.000000  0.00000  0.000000  0.000000  0.000000  0.000000  \n",
       "5  0.000000  0.010001  0.00548  0.000000  0.000000  0.000000  0.000000  \n",
       "6  0.000000  0.000000  0.00000  0.000000  0.000000  0.000000  0.007024  \n",
       "7  0.000000  0.000000  0.00000  0.000000  0.031993  0.000000  0.000000  \n",
       "\n",
       "[8 rows x 165 columns]"
      ]
     },
     "execution_count": 9,
     "metadata": {},
     "output_type": "execute_result"
    }
   ],
   "source": [
    "data_lda = {i: OrderedDict(lda.show_topic(i,25)) for i in range(total_topics)}\n",
    "df_lda = pd.DataFrame(data_lda)\n",
    "print(df_lda.shape)\n",
    "df_lda = df_lda.fillna(0).T\n",
    "print(df_lda.shape)\n",
    "df_lda"
   ]
  },
  {
   "cell_type": "markdown",
   "metadata": {},
   "source": [
    "#### 5. Plot clustermap to show any correlations"
   ]
  },
  {
   "cell_type": "code",
   "execution_count": 10,
   "metadata": {},
   "outputs": [
    {
     "name": "stderr",
     "output_type": "stream",
     "text": [
      "/Users/isobeljones/anaconda3/lib/python3.6/site-packages/matplotlib/backends/backend_agg.py:211: RuntimeWarning: Glyph 128077 missing from current font.\n",
      "  font.set_text(s, 0.0, flags=flags)\n",
      "/Users/isobeljones/anaconda3/lib/python3.6/site-packages/matplotlib/backends/backend_agg.py:211: RuntimeWarning: Glyph 128079 missing from current font.\n",
      "  font.set_text(s, 0.0, flags=flags)\n",
      "/Users/isobeljones/anaconda3/lib/python3.6/site-packages/matplotlib/backends/backend_agg.py:176: RuntimeWarning: Glyph 128077 missing from current font.\n",
      "  font.load_char(ord(s), flags=flags)\n",
      "/Users/isobeljones/anaconda3/lib/python3.6/site-packages/matplotlib/backends/backend_agg.py:176: RuntimeWarning: Glyph 128079 missing from current font.\n",
      "  font.load_char(ord(s), flags=flags)\n"
     ]
    },
    {
     "data": {
      "image/png": "[encoded data removed]",
      "text/plain": [
       "<Figure size 864x864 with 4 Axes>"
      ]
     },
     "metadata": {},
     "output_type": "display_data"
    }
   ],
   "source": [
    "g=sns.clustermap(df_lda.corr(), center=0, cmap=\"RdBu\", metric='cosine', linewidths=.75, figsize=(12, 12))\n",
    "plt.setp(g.ax_heatmap.yaxis.get_majorticklabels(), rotation=0)\n",
    "plt.show()"
   ]
  },
  {
   "cell_type": "markdown",
   "metadata": {},
   "source": [
    "#6. Plot LDA Visualization"
   ]
  },
  {
   "cell_type": "code",
   "execution_count": null,
   "metadata": {},
   "outputs": [
    {
     "name": "stderr",
     "output_type": "stream",
     "text": [
      "/Users/isobeljones/anaconda3/lib/python3.6/site-packages/pyLDAvis/_prepare.py:257: FutureWarning: Sorting because non-concatenation axis is not aligned. A future version\n",
      "of pandas will change to not sort by default.\n",
      "\n",
      "To accept the future behavior, pass 'sort=False'.\n",
      "\n",
      "To retain the current behavior and silence the warning, pass 'sort=True'.\n",
      "\n",
      "  return pd.concat([default_term_info] + list(topic_dfs))\n"
     ]
    }
   ],
   "source": [
    "pyLDAvis.enable_notebook()\n",
    "panel = pyLDAvis.gensim.prepare(lda, corpus_lda, dictionary, mds='tsne')"
   ]
  },
  {
   "cell_type": "code",
   "execution_count": null,
   "metadata": {},
   "outputs": [
    {
     "name": "stdout",
     "output_type": "stream",
     "text": [
      "\n",
      "Note: if you're in the IPython notebook, pyLDAvis.show() is not the best command\n",
      "      to use. Consider using pyLDAvis.display(), or pyLDAvis.enable_notebook().\n",
      "      See more information at http://pyLDAvis.github.io/quickstart.html .\n",
      "\n",
      "You must interrupt the kernel to end this command\n",
      "\n",
      "Serving to http://127.0.0.1:8889/    [Ctrl-C to exit]\n"
     ]
    },
    {
     "name": "stderr",
     "output_type": "stream",
     "text": [
      "127.0.0.1 - - [03/Aug/2019 12:47:37] \"GET / HTTP/1.1\" 200 -\n",
      "127.0.0.1 - - [03/Aug/2019 12:47:37] \"GET /LDAvis.css HTTP/1.1\" 200 -\n",
      "127.0.0.1 - - [03/Aug/2019 12:47:37] \"GET /d3.js HTTP/1.1\" 200 -\n",
      "127.0.0.1 - - [03/Aug/2019 12:47:37] \"GET /LDAvis.js HTTP/1.1\" 200 -\n",
      "127.0.0.1 - - [03/Aug/2019 12:47:37] code 404, message Not Found\n",
      "127.0.0.1 - - [03/Aug/2019 12:47:37] \"GET /apple-touch-icon-precomposed.png HTTP/1.1\" 404 -\n",
      "127.0.0.1 - - [03/Aug/2019 12:47:37] code 404, message Not Found\n",
      "127.0.0.1 - - [03/Aug/2019 12:47:37] \"GET /apple-touch-icon.png HTTP/1.1\" 404 -\n"
     ]
    }
   ],
   "source": [
    "pyLDAvis.show(panel)"
   ]
  }
 ],
 "metadata": {
  "kernelspec": {
   "display_name": "Python 3",
   "language": "python",
   "name": "python3"
  },
  "language_info": {
   "codemirror_mode": {
    "name": "ipython",
    "version": 3
   },
   "file_extension": ".py",
   "mimetype": "text/x-python",
   "name": "python",
   "nbconvert_exporter": "python",
   "pygments_lexer": "ipython3",
   "version": "3.6.4"
  }
 },
 "nbformat": 4,
 "nbformat_minor": 2
}
